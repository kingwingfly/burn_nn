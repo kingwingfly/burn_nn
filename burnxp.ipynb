{
    "cells": [
        {
            "cell_type": "code",
            "execution_count": null,
            "metadata": {
                "id": "VNH3kjW4xWUq"
            },
            "outputs": [],
            "source": [
                "from google.colab import drive\n",
                "drive.mount('/content/drive')"
            ]
        },
        {
            "cell_type": "code",
            "execution_count": null,
            "metadata": {
                "collapsed": true,
                "id": "KUXrJgFYuJWA"
            },
            "outputs": [],
            "source": [
                "!curl -LO \"https://github.com/kingwingfly/burnxp/releases/download/v0.1.0-alpha38/burnxp-v0.1.0-alpha38-x86_64-unknown-linux-gnu.tar.gz\"\n",
                "!tar xvf burnxp-v0.1.0-alpha38-x86_64-unknown-linux-gnu.tar.gz\n",
                "!rm -rf burnxp burnxp-v0.1.0-alpha38-x86_64-unknown-linux-gnu.tar.gz\n",
                "!mv burnxp-v0.1.0-alpha38-x86_64-unknown-linux-gnu burnxp\n",
                "!cd burnxp && run/setup.sh"
            ]
        },
        {
            "cell_type": "code",
            "execution_count": null,
            "metadata": {
                "id": "OgM5_mQv1DFX"
            },
            "outputs": [],
            "source": [
                "!cp /content/drive/MyDrive/data/picked.tar.gz /content/burnxp\n",
                "!cd burnxp && tar xvf picked.tar.gz && rm picked.tar.gz && ls"
            ]
        },
        {
            "cell_type": "code",
            "execution_count": null,
            "metadata": {
                "id": "O9c6Y_2q2muD"
            },
            "outputs": [],
            "source": [
                "!pip install colab-xterm\n",
                "%load_ext colabxterm\n",
                "%xterm"
            ]
        },
        {
            "cell_type": "markdown",
            "metadata": {
                "id": "bZmAiiUe55jH"
            },
            "source": [
                "```bash\n",
                "cd burnxp\n",
                "export export LD_LIBRARY_PATH=\"$(pwd)/libtorch/lib:$LD_LIBRARY_PATH\" LIBTORCH=\"$(pwd)/libtorch\"\n",
                "./tagger divide scores.json\n",
                "./burnxp train -b 4 -w 2 && cp burnxp_artifact/model.mpk /content/drive/MyDrive/data\n",
                "```"
            ]
        }
    ],
    "metadata": {
        "accelerator": "GPU",
        "colab": {
            "authorship_tag": "ABX9TyNkKCwwC/OIXhtd+1tU6plm",
            "gpuType": "T4",
            "provenance": []
        },
        "kernelspec": {
            "display_name": "Python 3",
            "name": "python3"
        },
        "language_info": {
            "name": "python"
        }
    },
    "nbformat": 4,
    "nbformat_minor": 0
}
